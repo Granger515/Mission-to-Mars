{
 "cells": [
  {
   "cell_type": "code",
   "execution_count": 1,
   "id": "bc6925aa",
   "metadata": {},
   "outputs": [],
   "source": [
    "#In Class Wed Activity 2"
   ]
  },
  {
   "cell_type": "code",
   "execution_count": 2,
   "id": "d4ea74aa",
   "metadata": {},
   "outputs": [],
   "source": [
    "#The website adderes to use is https://globalvoices.org/page/2/"
   ]
  },
  {
   "cell_type": "code",
   "execution_count": 3,
   "id": "b54d0258",
   "metadata": {},
   "outputs": [],
   "source": [
    "from splinter import Browser\n",
    "from bs4 import BeautifulSoup\n",
    "from webdriver_manager.chrome import ChromeDriverManager\n",
    "\n",
    "executable_path = {'executable_path': ChromeDriverManager().install()}\n",
    "browser = Browser('chrome', **executable_path, headless=False)"
   ]
  },
  {
   "cell_type": "code",
   "execution_count": 4,
   "id": "d7b35e85",
   "metadata": {},
   "outputs": [],
   "source": [
    "url = \"https://globalvoices.org/page/2/\"\n",
    "browser.visit(url)"
   ]
  },
  {
   "cell_type": "code",
   "execution_count": 5,
   "id": "9fd5b37f",
   "metadata": {},
   "outputs": [],
   "source": [
    "browser.links.find_by_partial_text('No thanks').click()"
   ]
  },
  {
   "cell_type": "code",
   "execution_count": 6,
   "id": "bf5718b4",
   "metadata": {},
   "outputs": [],
   "source": [
    "ArtTitles = []\n",
    "\n",
    "def GetTitles():\n",
    "    html = browser.html\n",
    "    soup = BeautifulSoup(html, 'html.parser')\n",
    "    headers = soup.find_all('h3', class_ = 'post-title')\n",
    "    for header in headers:\n",
    "        title = header.text\n",
    "        ArtTitles.append(title)"
   ]
  },
  {
   "cell_type": "code",
   "execution_count": 7,
   "id": "296f6ca0",
   "metadata": {},
   "outputs": [],
   "source": [
    "for x in range(5):\n",
    "    GetTitles()\n",
    "    browser.links.find_by_partial_text('Older').click()"
   ]
  },
  {
   "cell_type": "code",
   "execution_count": 8,
   "id": "df8c3719",
   "metadata": {},
   "outputs": [
    {
     "data": {
      "text/plain": [
       "[\"France's institutional fear of multilingualism: An interview with language activist Michel Feltin-Palas\",\n",
       " 'European Parliament’s Report on Pegasus spyware indicates involvement of North Macedonia companies',\n",
       " 'Welcome the new year with these joyful traditions from Latin America',\n",
       " 'A Buryat voice calling on Russia to decolonize : Interview with Instagrammer Seseg Jigjitova',\n",
       " 'The year in review: What the Caribbean looked like in 2022',\n",
       " \"Trinidad & Tobago's calypsonian Black Stalin, the quintessential ‘Caribbean Man,’ dies at 81\",\n",
       " \"Turkey's Saturday Mothers, 27 years on, are still searching for justice and closure\",\n",
       " 'How Morocco’s Atlas Lions made history at the 2022 World Cup',\n",
       " \"Inside my bounty: Raghda's journey\",\n",
       " \"For school New Year's Eve parties in Moscow, some music is apparently deemed inappropriate\",\n",
       " 'Self-taught Trinidadian photographer Jason C. Audain pushes boundaries with the use of AI',\n",
       " 'The Dutch state apologises for slavery, and the Caribbean wonders: Will reparations follow?',\n",
       " 'Climate change, digital authoritarianism and disinformation campaigns ruled in South Asia in 2022',\n",
       " \"‘The Balkans are Europe's Latin America in many beautiful ways,’ says Albanian writer\",\n",
       " 'This online game exposes the dangers of deep-sea mining',\n",
       " 'Classical dance pushes the bounds of traditional gender identities in Cambodia',\n",
       " 'Turkey, a year in review: Battling both at home and abroad',\n",
       " \"Police in Azerbaijan detain protesters on the day of activist's trial\",\n",
       " 'Governments are still free to use the Pegasus software without human rights safeguards in place',\n",
       " 'Pundits say unblocking the Lachin Corridor is the only way to avoid humanitarian crisis',\n",
       " 'Another attack on LGBTQ+ center in Podgorica highlights the need to protect human rights in Montenegro',\n",
       " 'Documentary about the 1920s Volga famine is prohibited in Russia but broadcasted on YouTube',\n",
       " 'Transgender women are despised, like the Virgin Mary in her day',\n",
       " 'Undertones in Afghanistan: ‘Taliban 2.0,’ Women, Resistance',\n",
       " 'A fact-check of India’s socio-political undercurrents: the case of Zubair',\n",
       " \"Woman dubbed ‘Messi's grandma’ goes viral in Argentina following World Cup win\",\n",
       " \"Art curator Mark Pereira's murder during a home invasion leaves Trinbagonian netizens nervous about crime\",\n",
       " \"What is Hong Kong role in Russia's sanction evasion?\",\n",
       " 'Australia explores ways to combat widespread greenwashing of carbon emissions',\n",
       " 'Hong Kong launches a national security legal battle against media tycoon Jimmy Lai',\n",
       " 'The Venezuelan diaspora in London seeks ways to save lives in Venezuela',\n",
       " 'Cartoonist Kianoush Ramazani: Hope in Iran during turbulent times',\n",
       " 'No good news for media freedom in Kyrgyzstan as government arrests journalists, activists, and bloggers',\n",
       " 'The climate crisis is a water crisis in the Himalayas',\n",
       " 'Addressing the changing nature of Twitter and emerging social media landscape\\xa0',\n",
       " 'World Bank land giveaway in Cambodia marred by problems',\n",
       " 'Why does South America not seem to care about corruption issues in the World Cup?',\n",
       " \"Did 2022 see the Caribbean become more ‘gay-friendly'?\",\n",
       " 'Twitter Space:  What’s next for the Aragalaya movement in Sri Lanka?',\n",
       " 'Call to Action on International Migrants Day: Stop forced labour and restore workers’ agency',\n",
       " \"In the midst of Trinidad & Tobago's parang season, calypsonian Singing Francine passes on\",\n",
       " 'What did the outside world in the 1930s know about the Soviet famine and the ‘Holodomor’ in Ukraine?',\n",
       " 'Data privacy rights advance in Tanzania under new law, but obstacles remain',\n",
       " \"The journey of Trinidad's parang music, in one informative podcast\",\n",
       " \"Violence reached an unprecedented level in Brazil's 2022 election, says survey\",\n",
       " 'The climate crisis and the environment in Central Asia — Is there hope?',\n",
       " 'Russia is waging an information war in Latin America',\n",
       " \"Indonesia's new penal code revisions don't just threaten sexual freedoms\",\n",
       " 'Former president of Georgia facing health problems',\n",
       " 'In Turkey, local court hands popular mayor a jail sentence',\n",
       " 'Colmena: an open source media platform connecting Indigenous and rural communities',\n",
       " 'Hong Kong national anthem mixup causes chaos at international sporting events',\n",
       " 'The effects of internet shutdowns on public mobilization\\xa0',\n",
       " 'Rasha Azab and her friends: Seven days off-script for three Egyptian journalists',\n",
       " \"‘How the fuck is it possible?': Russian rapper releases anti-war album\",\n",
       " 'Azerbaijan arrests prominent political activist ahead of International Human Rights Day',\n",
       " 'Undertones in Pakistan: Military, Women, Blasphemy',\n",
       " 'Australian PM Anthony Albanese adds to growing political pressure to #FreeJulianAssange',\n",
       " 'A Caribbean debrief of COP27 that goes beyond the historic loss and damage fund',\n",
       " 'In defense of whom? Protesting Jordan’s perpetual state of emergency',\n",
       " 'Latin Americans still invest in cryptocurrency despite crisis',\n",
       " 'Does Messi speak Spanish or ‘Argentine’?',\n",
       " 'How is the Caribbean faring on International Anti-Corruption Day?',\n",
       " 'Breaking the binary of trauma and resilience in mental health: Interview with Lamia Moghnieh',\n",
       " 'In Turkey, a child bride scandal puts religious cults in the spotlight',\n",
       " 'The last of the Tharu traditional healers of Nepal',\n",
       " 'China faces a rough road to ending its zero-COVID policies',\n",
       " 'How the Venezuelan government uses social media to cover up its biggest corruption case',\n",
       " 'These culturally conscious African fashion designers are leading another sportswear revolution',\n",
       " 'State capture in South Africa by the Gupta family: A lesson on political influence',\n",
       " 'Freedom of expression in Tanzania is on a downward spiral',\n",
       " \"New report: Framing China's Belt and Road Initiative\",\n",
       " 'Global Voices is on Mastodon (and back on Tumblr)!',\n",
       " 'Popular TikToker Nekoglai tells of torture by Russian police',\n",
       " 'Activists strive for data protection in Indonesia',\n",
       " 'Twitter account “No Context Russia” is sad yet hilarious',\n",
       " \"It's the  International Day of Persons with Disabilities, but in Trinidad & Tobago, ‘barriers remain in place’\",\n",
       " 'Khodanoor Lajaei: Icon for a revolution\\xa0',\n",
       " 'Nigerian student arrested after calling First Lady ‘fat from corruption’ on Twitter',\n",
       " 'China’s foreign interference narrative fails to successfully demonize the nationwide anti-zero COVID protests',\n",
       " '‘In Ecuador, disinformation has spread like a fungus,’ says Ecuadorian investigative journalist',\n",
       " 'Nepali migrant workers who built the World Cup stadiums are completely forgotten',\n",
       " \"Istanbul's Uyghur community protest outside the Chinese Consulate despite the cost of reprisals\",\n",
       " 'Soaring food prices and funding shortfalls add to growing food insecurity in Uganda’s refugee settlements\\xa0',\n",
       " 'Cry me a river: Trinidad faces more serious flooding and anguish',\n",
       " 'President Erdoğan is on a mission to mend ties but at what cost?',\n",
       " 'Mexican collective pirating books to make culture accessible is blocked',\n",
       " 'A viral video of a dog abused at a shelter reveals a polarized Turkey',\n",
       " 'In Turkey, social media platforms become complicit in censoring media and freedom of speech',\n",
       " 'Global Voices seeks an editor to lead our Ukraine coverage',\n",
       " 'China’s zero-COVID policy sparks rare country-wide protests',\n",
       " '‘I am not returning to this hell’: In the Russian North Caucasus, NGOs help victims of gender and LGBTQ+ violence to escape',\n",
       " 'China in Uzbek media: Friend or foe?',\n",
       " 'Undertones: Twitter is a double-edged sword for the Global South',\n",
       " \"Bolsonaro and his supporters continue to undermine democracy after losing Brazil's election\",\n",
       " \"Rare street protests across China: Is Xi Jinping's zero-COVID policy turning people against their government?\",\n",
       " 'Released foreigners share their prison experiences in Myanmar',\n",
       " 'Why are Jamaicans crazy about Brazilian football?',\n",
       " 'Trinidad & Tobago placed under a ‘weather emergency’ alert',\n",
       " 'What role does the Chinese government play in the latest Foxconn workers protest?',\n",
       " 'Explaining the 20th Congress of the Communist Party of China: Culture and civilization',\n",
       " \"In darkness but #withoutyou: How Moldova survives power cuts caused by Russia's bombing of Ukraine\",\n",
       " 'Turkey marks International Day for the Elimination of Violence against women with disturbing femicide numbers',\n",
       " 'Brazil’s 2022 elections seen from Angola and Mozambique',\n",
       " 'With the US intervention, Kosovo and Serbia resolve the car license plate dispute']"
      ]
     },
     "execution_count": 8,
     "metadata": {},
     "output_type": "execute_result"
    }
   ],
   "source": [
    "ArtTitles"
   ]
  },
  {
   "cell_type": "code",
   "execution_count": 9,
   "id": "77afada6",
   "metadata": {},
   "outputs": [],
   "source": [
    "ArtDates = []"
   ]
  },
  {
   "cell_type": "code",
   "execution_count": 10,
   "id": "aa1d3d7f",
   "metadata": {},
   "outputs": [],
   "source": [
    "def GetDates():\n",
    "    html = browser.html\n",
    "    soup = BeautifulSoup(html, 'html.parser')\n",
    "    dates = soup.find_all('span', class_ = 'datestamp')\n",
    "    for date in dates:\n",
    "        date = date['title']\n",
    "        date = date.replace(\"_\", \"\")\n",
    "        ArtDates.append(date)"
   ]
  },
  {
   "cell_type": "code",
   "execution_count": 11,
   "id": "72ce6a1e",
   "metadata": {},
   "outputs": [],
   "source": [
    "url = \"https://globalvoices.org/page/2/\"\n",
    "browser.visit(url)"
   ]
  },
  {
   "cell_type": "code",
   "execution_count": 12,
   "id": "e8ced551",
   "metadata": {},
   "outputs": [],
   "source": [
    "for x in range(5):\n",
    "    GetDates()\n",
    "    browser.links.find_by_partial_text('Older').click()"
   ]
  },
  {
   "cell_type": "code",
   "execution_count": 13,
   "id": "85aa07ce",
   "metadata": {},
   "outputs": [
    {
     "data": {
      "text/plain": [
       "['30 12 2022',\n",
       " '29 12 2022',\n",
       " '29 12 2022',\n",
       " '29 12 2022',\n",
       " '29 12 2022',\n",
       " '28 12 2022',\n",
       " '27 12 2022',\n",
       " '27 12 2022',\n",
       " '27 12 2022',\n",
       " '27 12 2022',\n",
       " '27 12 2022',\n",
       " '26 12 2022',\n",
       " '26 12 2022',\n",
       " '25 12 2022',\n",
       " '25 12 2022',\n",
       " '24 12 2022',\n",
       " '24 12 2022',\n",
       " '24 12 2022',\n",
       " '23 12 2022',\n",
       " '23 12 2022',\n",
       " '23 12 2022',\n",
       " '22 12 2022',\n",
       " '22 12 2022',\n",
       " '21 12 2022',\n",
       " '21 12 2022',\n",
       " '21 12 2022',\n",
       " '21 12 2022',\n",
       " '21 12 2022',\n",
       " '20 12 2022',\n",
       " '20 12 2022',\n",
       " '19 12 2022',\n",
       " '19 12 2022',\n",
       " '19 12 2022',\n",
       " '19 12 2022',\n",
       " '19 12 2022',\n",
       " '19 12 2022',\n",
       " '18 12 2022',\n",
       " '18 12 2022',\n",
       " '18 12 2022',\n",
       " '18 12 2022',\n",
       " '17 12 2022',\n",
       " '16 12 2022',\n",
       " '16 12 2022',\n",
       " '16 12 2022',\n",
       " '15 12 2022',\n",
       " '15 12 2022',\n",
       " '15 12 2022',\n",
       " '15 12 2022',\n",
       " '15 12 2022',\n",
       " '15 12 2022',\n",
       " '14 12 2022',\n",
       " '13 12 2022',\n",
       " '13 12 2022',\n",
       " '12 12 2022',\n",
       " '12 12 2022',\n",
       " '12 12 2022',\n",
       " '12 12 2022',\n",
       " '12 12 2022',\n",
       " '11 12 2022',\n",
       " '11 12 2022',\n",
       " '10 12 2022',\n",
       " '9 12 2022',\n",
       " '9 12 2022',\n",
       " '9 12 2022',\n",
       " '9 12 2022',\n",
       " '8 12 2022',\n",
       " '8 12 2022',\n",
       " '8 12 2022',\n",
       " '8 12 2022',\n",
       " '7 12 2022',\n",
       " '6 12 2022',\n",
       " '5 12 2022',\n",
       " '5 12 2022',\n",
       " '5 12 2022',\n",
       " '5 12 2022',\n",
       " '3 12 2022',\n",
       " '3 12 2022',\n",
       " '2 12 2022',\n",
       " '2 12 2022',\n",
       " '1 12 2022',\n",
       " '1 12 2022',\n",
       " '1 12 2022',\n",
       " '1 12 2022',\n",
       " '1 12 2022',\n",
       " '30 11 2022',\n",
       " '30 11 2022',\n",
       " '30 11 2022',\n",
       " '29 11 2022',\n",
       " '29 11 2022',\n",
       " '28 11 2022',\n",
       " '28 11 2022',\n",
       " '28 11 2022',\n",
       " '28 11 2022',\n",
       " '28 11 2022',\n",
       " '28 11 2022',\n",
       " '27 11 2022',\n",
       " '27 11 2022',\n",
       " '27 11 2022',\n",
       " '26 11 2022',\n",
       " '25 11 2022',\n",
       " '25 11 2022',\n",
       " '25 11 2022',\n",
       " '25 11 2022',\n",
       " '25 11 2022',\n",
       " '25 11 2022']"
      ]
     },
     "execution_count": 13,
     "metadata": {},
     "output_type": "execute_result"
    }
   ],
   "source": [
    "ArtDates"
   ]
  },
  {
   "cell_type": "code",
   "execution_count": 14,
   "id": "d3be148a",
   "metadata": {},
   "outputs": [],
   "source": [
    "browser.quit()"
   ]
  },
  {
   "cell_type": "code",
   "execution_count": null,
   "id": "41b747eb",
   "metadata": {},
   "outputs": [],
   "source": []
  }
 ],
 "metadata": {
  "kernelspec": {
   "display_name": "Python 3 (ipykernel)",
   "language": "python",
   "name": "python3"
  },
  "language_info": {
   "codemirror_mode": {
    "name": "ipython",
    "version": 3
   },
   "file_extension": ".py",
   "mimetype": "text/x-python",
   "name": "python",
   "nbconvert_exporter": "python",
   "pygments_lexer": "ipython3",
   "version": "3.9.13"
  }
 },
 "nbformat": 4,
 "nbformat_minor": 5
}

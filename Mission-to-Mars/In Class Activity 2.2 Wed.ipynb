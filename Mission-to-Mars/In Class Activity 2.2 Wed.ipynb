{
 "cells": [
  {
   "cell_type": "code",
   "execution_count": 1,
   "id": "66a27153",
   "metadata": {},
   "outputs": [],
   "source": [
    "#In Class Wed Activity 2 (version 2)"
   ]
  },
  {
   "cell_type": "code",
   "execution_count": 2,
   "id": "184c57b6",
   "metadata": {},
   "outputs": [],
   "source": [
    "#The website adderes to use is https://globalvoices.org/page/2/"
   ]
  },
  {
   "cell_type": "code",
   "execution_count": 3,
   "id": "2d498ee0",
   "metadata": {},
   "outputs": [],
   "source": [
    "from splinter import Browser\n",
    "from bs4 import BeautifulSoup\n",
    "from webdriver_manager.chrome import ChromeDriverManager\n",
    "\n",
    "executable_path = {'executable_path': ChromeDriverManager().install()}\n",
    "browser = Browser('chrome', **executable_path, headless=False)"
   ]
  },
  {
   "cell_type": "code",
   "execution_count": 4,
   "id": "7ff0113e",
   "metadata": {},
   "outputs": [],
   "source": [
    "url = \"https://globalvoices.org/page/2/\"\n",
    "browser.visit(url)\n",
    "html = browser.html\n",
    "soup = BeautifulSoup(html, 'html.parser')"
   ]
  },
  {
   "cell_type": "code",
   "execution_count": 5,
   "id": "74a91af4",
   "metadata": {},
   "outputs": [],
   "source": [
    "browser.links.find_by_partial_text(\"No thanks\").click()"
   ]
  },
  {
   "cell_type": "code",
   "execution_count": 6,
   "id": "2004c8a8",
   "metadata": {},
   "outputs": [],
   "source": [
    "articles = []"
   ]
  },
  {
   "cell_type": "code",
   "execution_count": null,
   "id": "5dacd0ae",
   "metadata": {},
   "outputs": [],
   "source": []
  }
 ],
 "metadata": {
  "kernelspec": {
   "display_name": "Python 3 (ipykernel)",
   "language": "python",
   "name": "python3"
  },
  "language_info": {
   "codemirror_mode": {
    "name": "ipython",
    "version": 3
   },
   "file_extension": ".py",
   "mimetype": "text/x-python",
   "name": "python",
   "nbconvert_exporter": "python",
   "pygments_lexer": "ipython3",
   "version": "3.9.13"
  }
 },
 "nbformat": 4,
 "nbformat_minor": 5
}
